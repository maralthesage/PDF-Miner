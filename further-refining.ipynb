{
 "cells": [
  {
   "cell_type": "markdown",
   "metadata": {},
   "source": [
    "## Final Refinings\n",
    "\n",
    "This is a notebook for further analysis of my own data. It cannot be applied to other data sources (except, maybe the function). "
   ]
  },
  {
   "cell_type": "code",
   "execution_count": null,
   "metadata": {},
   "outputs": [],
   "source": [
    "import pandas as pd\n",
    "import re"
   ]
  },
  {
   "cell_type": "code",
   "execution_count": null,
   "metadata": {},
   "outputs": [],
   "source": [
    "\n",
    "cleaned_data = pd.read_csv('/path/to/csv', encoding='utf-8',delimiter=';')\n"
   ]
  },
  {
   "cell_type": "code",
   "execution_count": null,
   "metadata": {},
   "outputs": [],
   "source": [
    "\n",
    "cleaned_data['NUMMER'] = cleaned_data['NUMMER'].str.split('€').str[0]\n",
    "cleaned_data['NUMMER'] = cleaned_data['NUMMER'].str.split(r'[a-zA-Z]').str[0]\n",
    "cleaned_data['NUMMER'] = cleaned_data['NUMMER'].str.split('.').str[0]"
   ]
  },
  {
   "cell_type": "code",
   "execution_count": null,
   "metadata": {},
   "outputs": [],
   "source": [
    "def extract_product_id(sample):\n",
    "    \"\"\"\n",
    "    Extracts the product ID from a string.\n",
    "    The product ID is defined as the first 5-7 alphanumeric characters ending with a digit.\n",
    "    \n",
    "    Parameters:\n",
    "    sample (str): The input string containing the product ID.\n",
    "    \n",
    "    Returns:\n",
    "    str: The extracted product ID or None if no valid ID is found.\n",
    "    \"\"\"\n",
    "    pattern = re.compile(r'^[A-Za-z0-9]{5,7}\\d')\n",
    "    match = pattern.match(sample)\n",
    "    if match:\n",
    "        return match.group()\n",
    "    return None\n"
   ]
  },
  {
   "cell_type": "code",
   "execution_count": null,
   "metadata": {},
   "outputs": [],
   "source": [
    "cleaned_data['NUMMER'] = cleaned_data['NUMMER'].map(extract_product_id).dropna()"
   ]
  },
  {
   "cell_type": "code",
   "execution_count": null,
   "metadata": {},
   "outputs": [],
   "source": [
    "# cleaned_data = cleaned_data.rename(columns={'GR_FR':'Grosse-Farbe'})\n",
    "cleaned_data = cleaned_data[['NUMMER','BESCHREIBUNG']]\n",
    "cleaned_data = cleaned_data.drop_duplicates(subset='NUMMER')\n",
    "cleaned_data = cleaned_data.dropna(subset='NUMMER')"
   ]
  },
  {
   "cell_type": "code",
   "execution_count": null,
   "metadata": {},
   "outputs": [],
   "source": [
    "cleaned_data.to_csv('final_data.csv',encoding='utf-8',sep=';')"
   ]
  }
 ],
 "metadata": {
  "kernelspec": {
   "display_name": ".venv",
   "language": "python",
   "name": "python3"
  },
  "language_info": {
   "codemirror_mode": {
    "name": "ipython",
    "version": 3
   },
   "file_extension": ".py",
   "mimetype": "text/x-python",
   "name": "python",
   "nbconvert_exporter": "python",
   "pygments_lexer": "ipython3",
   "version": "3.12.3"
  }
 },
 "nbformat": 4,
 "nbformat_minor": 2
}
